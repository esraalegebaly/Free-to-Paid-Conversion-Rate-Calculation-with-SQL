{
 "cells": [
  {
   "cell_type": "code",
   "execution_count": null,
   "id": "4ba49366",
   "metadata": {},
   "outputs": [],
   "source": [
    "import pandas as pd\n",
    "import matplotlib.pyplot as plt\n",
    "import seaborn as sns\n",
    "sns.set()\n",
    "\n",
    "sns.set(font_scale=1.0)"
   ]
  },
  {
   "cell_type": "code",
   "execution_count": null,
   "id": "337ba15b",
   "metadata": {},
   "outputs": [],
   "source": [
    "data = pd.read_csv('Part3.csv')"
   ]
  },
  {
   "cell_type": "code",
   "execution_count": null,
   "id": "cfdcf7d5",
   "metadata": {},
   "outputs": [],
   "source": [
    "diff_1 = data['days_diff_reg_watch']\n",
    "diff_2 = data['days_diff_watch_purch'].dropna()"
   ]
  },
  {
   "cell_type": "code",
   "execution_count": null,
   "id": "fd2abca1",
   "metadata": {},
   "outputs": [],
   "source": [
    "sns.kdeplot(data = diff_1)"
   ]
  },
  {
   "cell_type": "code",
   "execution_count": null,
   "id": "4c84ac84",
   "metadata": {},
   "outputs": [],
   "source": [
    "sns.kdeplot(data = diff_2)"
   ]
  },
  {
   "cell_type": "code",
   "execution_count": null,
   "id": "be2fa926",
   "metadata": {},
   "outputs": [],
   "source": [
    "print(f'Mean:\\t {diff_1.mean()}')\n",
    "print(f'Median:\\t {diff_1.median()}')\n",
    "print(f'Mode:\\t {list(diff_1.mode())[0]}')"
   ]
  },
  {
   "cell_type": "code",
   "execution_count": null,
   "id": "97a8d4cf",
   "metadata": {},
   "outputs": [],
   "source": [
    "print(f'Mean:\\t {diff_2.mean()}')\n",
    "print(f'Median:\\t {diff_2.median()}')\n",
    "print(f'Mode:\\t {list(diff_2.mode())[0]}')"
   ]
  }
 ],
 "metadata": {
  "kernelspec": {
   "display_name": "Python 3 (ipykernel)",
   "language": "python",
   "name": "python3"
  },
  "language_info": {
   "codemirror_mode": {
    "name": "ipython",
    "version": 3
   },
   "file_extension": ".py",
   "mimetype": "text/x-python",
   "name": "python",
   "nbconvert_exporter": "python",
   "pygments_lexer": "ipython3",
   "version": "3.8.17"
  }
 },
 "nbformat": 4,
 "nbformat_minor": 5
}
